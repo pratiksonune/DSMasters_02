{
  "nbformat": 4,
  "nbformat_minor": 0,
  "metadata": {
    "colab": {
      "provenance": []
    },
    "kernelspec": {
      "name": "python3",
      "display_name": "Python 3"
    },
    "language_info": {
      "name": "python"
    }
  },
  "cells": [
    {
      "cell_type": "code",
      "execution_count": null,
      "metadata": {
        "id": "-69LYkggcy7D"
      },
      "outputs": [],
      "source": []
    },
    {
      "cell_type": "code",
      "source": [
        "#a importing necessary libraries\n",
        "import pandas as pd\n",
        "import numpy as np\n",
        "from sklearn.preprocessing import StandardScaler\n",
        "#from sklearn.linear_model  import LogisticRegression\n",
        "# from sklearn.tree import DecisionTreeClassifier\n",
        "# from sklearn.svm import SVC\n",
        "# from sklearn.naive_bayes import BernoulliNB\n",
        "from sklearn.model_selection import train_test_split\n",
        "from sklearn.metrics import accuracy_score, confusion_matrix\n",
        "from sklearn.model_selection import GridSearchCV\n",
        "import matplotlib.pyplot as plt\n",
        "import seaborn as sns\n",
        "import warnings\n",
        "warnings.filterwarnings(\"ignore\")\n",
        "%matplotlib inline"
      ],
      "metadata": {
        "id": "qwjakLNhd8lA"
      },
      "execution_count": 2,
      "outputs": []
    },
    {
      "cell_type": "code",
      "source": [
        "df=pd.read_csv(\"Bengaluru_House_Data.csv\")\n",
        "df.head()"
      ],
      "metadata": {
        "colab": {
          "base_uri": "https://localhost:8080/",
          "height": 206
        },
        "id": "-BcNoL23eFdn",
        "outputId": "52032771-bb12-4b0e-c9f3-45b739dd759b"
      },
      "execution_count": 3,
      "outputs": [
        {
          "output_type": "execute_result",
          "data": {
            "text/plain": [
              "              area_type   availability                  location       size  \\\n",
              "0  Super built-up  Area         19-Dec  Electronic City Phase II      2 BHK   \n",
              "1            Plot  Area  Ready To Move          Chikka Tirupathi  4 Bedroom   \n",
              "2        Built-up  Area  Ready To Move               Uttarahalli      3 BHK   \n",
              "3  Super built-up  Area  Ready To Move        Lingadheeranahalli      3 BHK   \n",
              "4  Super built-up  Area  Ready To Move                  Kothanur      2 BHK   \n",
              "\n",
              "   society total_sqft  bath  balcony   price  \n",
              "0  Coomee        1056   2.0      1.0   39.07  \n",
              "1  Theanmp       2600   5.0      3.0  120.00  \n",
              "2      NaN       1440   2.0      3.0   62.00  \n",
              "3  Soiewre       1521   3.0      1.0   95.00  \n",
              "4      NaN       1200   2.0      1.0   51.00  "
            ],
            "text/html": [
              "\n",
              "  <div id=\"df-1ed3c14f-02e1-4dbf-ac4b-ca04065345b7\">\n",
              "    <div class=\"colab-df-container\">\n",
              "      <div>\n",
              "<style scoped>\n",
              "    .dataframe tbody tr th:only-of-type {\n",
              "        vertical-align: middle;\n",
              "    }\n",
              "\n",
              "    .dataframe tbody tr th {\n",
              "        vertical-align: top;\n",
              "    }\n",
              "\n",
              "    .dataframe thead th {\n",
              "        text-align: right;\n",
              "    }\n",
              "</style>\n",
              "<table border=\"1\" class=\"dataframe\">\n",
              "  <thead>\n",
              "    <tr style=\"text-align: right;\">\n",
              "      <th></th>\n",
              "      <th>area_type</th>\n",
              "      <th>availability</th>\n",
              "      <th>location</th>\n",
              "      <th>size</th>\n",
              "      <th>society</th>\n",
              "      <th>total_sqft</th>\n",
              "      <th>bath</th>\n",
              "      <th>balcony</th>\n",
              "      <th>price</th>\n",
              "    </tr>\n",
              "  </thead>\n",
              "  <tbody>\n",
              "    <tr>\n",
              "      <th>0</th>\n",
              "      <td>Super built-up  Area</td>\n",
              "      <td>19-Dec</td>\n",
              "      <td>Electronic City Phase II</td>\n",
              "      <td>2 BHK</td>\n",
              "      <td>Coomee</td>\n",
              "      <td>1056</td>\n",
              "      <td>2.0</td>\n",
              "      <td>1.0</td>\n",
              "      <td>39.07</td>\n",
              "    </tr>\n",
              "    <tr>\n",
              "      <th>1</th>\n",
              "      <td>Plot  Area</td>\n",
              "      <td>Ready To Move</td>\n",
              "      <td>Chikka Tirupathi</td>\n",
              "      <td>4 Bedroom</td>\n",
              "      <td>Theanmp</td>\n",
              "      <td>2600</td>\n",
              "      <td>5.0</td>\n",
              "      <td>3.0</td>\n",
              "      <td>120.00</td>\n",
              "    </tr>\n",
              "    <tr>\n",
              "      <th>2</th>\n",
              "      <td>Built-up  Area</td>\n",
              "      <td>Ready To Move</td>\n",
              "      <td>Uttarahalli</td>\n",
              "      <td>3 BHK</td>\n",
              "      <td>NaN</td>\n",
              "      <td>1440</td>\n",
              "      <td>2.0</td>\n",
              "      <td>3.0</td>\n",
              "      <td>62.00</td>\n",
              "    </tr>\n",
              "    <tr>\n",
              "      <th>3</th>\n",
              "      <td>Super built-up  Area</td>\n",
              "      <td>Ready To Move</td>\n",
              "      <td>Lingadheeranahalli</td>\n",
              "      <td>3 BHK</td>\n",
              "      <td>Soiewre</td>\n",
              "      <td>1521</td>\n",
              "      <td>3.0</td>\n",
              "      <td>1.0</td>\n",
              "      <td>95.00</td>\n",
              "    </tr>\n",
              "    <tr>\n",
              "      <th>4</th>\n",
              "      <td>Super built-up  Area</td>\n",
              "      <td>Ready To Move</td>\n",
              "      <td>Kothanur</td>\n",
              "      <td>2 BHK</td>\n",
              "      <td>NaN</td>\n",
              "      <td>1200</td>\n",
              "      <td>2.0</td>\n",
              "      <td>1.0</td>\n",
              "      <td>51.00</td>\n",
              "    </tr>\n",
              "  </tbody>\n",
              "</table>\n",
              "</div>\n",
              "      <button class=\"colab-df-convert\" onclick=\"convertToInteractive('df-1ed3c14f-02e1-4dbf-ac4b-ca04065345b7')\"\n",
              "              title=\"Convert this dataframe to an interactive table.\"\n",
              "              style=\"display:none;\">\n",
              "        \n",
              "  <svg xmlns=\"http://www.w3.org/2000/svg\" height=\"24px\"viewBox=\"0 0 24 24\"\n",
              "       width=\"24px\">\n",
              "    <path d=\"M0 0h24v24H0V0z\" fill=\"none\"/>\n",
              "    <path d=\"M18.56 5.44l.94 2.06.94-2.06 2.06-.94-2.06-.94-.94-2.06-.94 2.06-2.06.94zm-11 1L8.5 8.5l.94-2.06 2.06-.94-2.06-.94L8.5 2.5l-.94 2.06-2.06.94zm10 10l.94 2.06.94-2.06 2.06-.94-2.06-.94-.94-2.06-.94 2.06-2.06.94z\"/><path d=\"M17.41 7.96l-1.37-1.37c-.4-.4-.92-.59-1.43-.59-.52 0-1.04.2-1.43.59L10.3 9.45l-7.72 7.72c-.78.78-.78 2.05 0 2.83L4 21.41c.39.39.9.59 1.41.59.51 0 1.02-.2 1.41-.59l7.78-7.78 2.81-2.81c.8-.78.8-2.07 0-2.86zM5.41 20L4 18.59l7.72-7.72 1.47 1.35L5.41 20z\"/>\n",
              "  </svg>\n",
              "      </button>\n",
              "      \n",
              "  <style>\n",
              "    .colab-df-container {\n",
              "      display:flex;\n",
              "      flex-wrap:wrap;\n",
              "      gap: 12px;\n",
              "    }\n",
              "\n",
              "    .colab-df-convert {\n",
              "      background-color: #E8F0FE;\n",
              "      border: none;\n",
              "      border-radius: 50%;\n",
              "      cursor: pointer;\n",
              "      display: none;\n",
              "      fill: #1967D2;\n",
              "      height: 32px;\n",
              "      padding: 0 0 0 0;\n",
              "      width: 32px;\n",
              "    }\n",
              "\n",
              "    .colab-df-convert:hover {\n",
              "      background-color: #E2EBFA;\n",
              "      box-shadow: 0px 1px 2px rgba(60, 64, 67, 0.3), 0px 1px 3px 1px rgba(60, 64, 67, 0.15);\n",
              "      fill: #174EA6;\n",
              "    }\n",
              "\n",
              "    [theme=dark] .colab-df-convert {\n",
              "      background-color: #3B4455;\n",
              "      fill: #D2E3FC;\n",
              "    }\n",
              "\n",
              "    [theme=dark] .colab-df-convert:hover {\n",
              "      background-color: #434B5C;\n",
              "      box-shadow: 0px 1px 3px 1px rgba(0, 0, 0, 0.15);\n",
              "      filter: drop-shadow(0px 1px 2px rgba(0, 0, 0, 0.3));\n",
              "      fill: #FFFFFF;\n",
              "    }\n",
              "  </style>\n",
              "\n",
              "      <script>\n",
              "        const buttonEl =\n",
              "          document.querySelector('#df-1ed3c14f-02e1-4dbf-ac4b-ca04065345b7 button.colab-df-convert');\n",
              "        buttonEl.style.display =\n",
              "          google.colab.kernel.accessAllowed ? 'block' : 'none';\n",
              "\n",
              "        async function convertToInteractive(key) {\n",
              "          const element = document.querySelector('#df-1ed3c14f-02e1-4dbf-ac4b-ca04065345b7');\n",
              "          const dataTable =\n",
              "            await google.colab.kernel.invokeFunction('convertToInteractive',\n",
              "                                                     [key], {});\n",
              "          if (!dataTable) return;\n",
              "\n",
              "          const docLinkHtml = 'Like what you see? Visit the ' +\n",
              "            '<a target=\"_blank\" href=https://colab.research.google.com/notebooks/data_table.ipynb>data table notebook</a>'\n",
              "            + ' to learn more about interactive tables.';\n",
              "          element.innerHTML = '';\n",
              "          dataTable['output_type'] = 'display_data';\n",
              "          await google.colab.output.renderOutput(dataTable, element);\n",
              "          const docLink = document.createElement('div');\n",
              "          docLink.innerHTML = docLinkHtml;\n",
              "          element.appendChild(docLink);\n",
              "        }\n",
              "      </script>\n",
              "    </div>\n",
              "  </div>\n",
              "  "
            ]
          },
          "metadata": {},
          "execution_count": 3
        }
      ]
    },
    {
      "cell_type": "markdown",
      "source": [
        "# answer 1\n",
        "In the case of predicting house prices based on multiple characteristics using an SVM regression model, the most appropriate regression metric to employ would be the mean squared error (MSE).\n",
        "\n",
        "MSE measures the average squared difference between the predicted and actual house prices. This metric is commonly used in regression analysis as it penalizes large errors more heavily than small errors. Additionally, MSE has a clear interpretation in terms of the variance of the prediction error, which can be useful for understanding the performance of the model.\n",
        "\n",
        "Other regression metrics that can be considered include mean absolute error (MAE), root mean squared error (RMSE), and R-squared (R2) coefficient of determination. However, in most cases, MSE is preferred over these metrics due to its sensitivity to large errors and its ease of interpretation."
      ],
      "metadata": {
        "id": "g-ni5KJAkNkV"
      }
    },
    {
      "cell_type": "markdown",
      "source": [
        "# answer 2\n",
        "If your goal is to predict the actual price of a house as accurately as possible, then the most appropriate regression metric to use would be the mean squared error (MSE) rather than the R-squared coefficient of determination.\n",
        "\n",
        "The R-squared metric measures the proportion of the variance in the dependent variable (house prices) that is explained by the independent variables (location, square footage, number of bedrooms, etc.). While it can provide a useful indication of how well the model fits the data, it does not directly measure the accuracy of the predictions.\n",
        "\n",
        "On the other hand, MSE measures the average squared difference between the predicted and actual house prices. It is a more appropriate metric for evaluating the accuracy of predictions and penalizes large errors more heavily than small errors, which is important in the context of predicting house prices accurately. Therefore, if your goal is to predict the actual price of a house as accurately as possible, MSE is the most appropriate regression metric to use."
      ],
      "metadata": {
        "id": "pmASZP9Llc8h"
      }
    },
    {
      "cell_type": "markdown",
      "source": [
        "# answer 3\n",
        "If your dataset contains a significant number of outliers, then the most appropriate regression metric to use with your SVM model would be the mean absolute error (MAE).\n",
        "\n",
        "The reason for this is that MAE is less sensitive to outliers than other regression metrics such as the mean squared error (MSE) and the root mean squared error (RMSE), which can be significantly affected by large errors. In contrast, MAE measures the average absolute difference between the predicted and actual values, which gives equal weight to all errors regardless of their size.\n",
        "\n",
        "In the presence of outliers, it is important to use an evaluation metric that is robust to extreme values and provides a more accurate representation of the errors. Therefore, MAE is the most appropriate regression metric to use in this scenario, as it is less influenced by outliers and provides a more accurate measure of the model's performance."
      ],
      "metadata": {
        "id": "26bFgHSLoQpH"
      }
    },
    {
      "cell_type": "markdown",
      "source": [
        "# answer 4\n",
        "If both the mean squared error (MSE) and the root mean squared error (RMSE) values are very close, then either metric can be chosen to evaluate the performance of the SVM regression model.\n",
        "\n",
        "Both MSE and RMSE are commonly used regression metrics and provide similar information about the performance of the model. While MSE measures the average squared difference between the predicted and actual values, RMSE measures the square root of this value, which gives an indication of the magnitude of the errors in the same units as the target variable.\n",
        "\n",
        "Therefore, if there is no significant difference between the MSE and RMSE values, either metric can be chosen based on personal preference or based on the specific requirements of the problem. For example, if the target variable has a wide range of values, then RMSE may provide a better indication of the magnitude of the errors. Conversely, if the focus is on penalizing large errors more heavily, then MSE may be more appropriate."
      ],
      "metadata": {
        "id": "XMlfg7OFsqOj"
      }
    },
    {
      "cell_type": "markdown",
      "source": [
        "# answer 5\n",
        "If the goal is to measure how well the model explains the variance in the target variable, then the most appropriate evaluation metric for comparing the performance of different SVM regression models with different kernels would be the coefficient of determination, or R-squared (R²).\n",
        "\n",
        "R-squared measures the proportion of variance in the target variable that is explained by the model. A high R-squared value indicates that a large proportion of the variance in the target variable is accounted for by the model, while a low R-squared value indicates that the model does not explain much of the variance in the target variable.\n",
        "\n",
        "Therefore, when comparing the performance of different SVM regression models with different kernels, R-squared would be the most appropriate evaluation metric to use to assess how well the models explain the variance in the target variable."
      ],
      "metadata": {
        "id": "AUF_ZvyYswWP"
      }
    }
  ]
}