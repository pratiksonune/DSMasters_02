{
  "cells": [
    {
      "cell_type": "code",
      "execution_count": 149,
      "metadata": {
        "id": "h2ruaI8-V1aw"
      },
      "outputs": [],
      "source": [
        "import logging\n",
        "logging.basicConfig(filename=\"5AprInfo.log\", level=logging.INFO, format=\"%(asctime)s %(name)s %(message)s\")"
      ]
    },
    {
      "cell_type": "markdown",
      "metadata": {
        "id": "lDO7sZsRXYYk"
      },
      "source": [
        "# answer 1\n",
        "\n",
        "The mathematical formula for a linear Support Vector Machine (SVM) can be written as:\n",
        "\n",
        "\n",
        "```\n",
        "f(x) = sign(w^T x + b)\n",
        "```\n",
        "where:\n",
        "\n",
        "x is the input vector\n",
        "w is the weight vector\n",
        "b is the bias term\n",
        "sign is the sign function, which returns +1 if the argument is positive, -1 if the argument is negative, and 0 if the argument is zero.\n",
        "The goal of the linear SVM is to find the optimal w and b values that maximize the margin between the two classes in the dataset. This is typically formulated as a constrained optimization problem, which can be solved using methods such as quadratic programming. Once the optimal w and b values are found, they can be used to classify new input vectors by computing f(x) and taking the sign of the result.\n"
      ]
    },
    {
      "cell_type": "markdown",
      "metadata": {
        "id": "oN-m_SwNXjxJ"
      },
      "source": [
        "# answer 2\n",
        "The objective function of a linear Support Vector Machine (SVM) is to maximize the margin between the two classes in the dataset. The margin is defined as the distance between the decision boundary (the hyperplane that separates the two classes) and the closest data point from either class. The SVM aims to find the hyperplane that maximizes this margin, as it is believed to provide better generalization performance on new, unseen data.\n",
        "\n",
        "More formally, the objective function of a linear SVM can be written as:\n",
        "\n",
        "\n",
        "```\n",
        "minimize (1/2) ||w||^2\n",
        "subject to yi(w^T xi + b) >= 1 for i = 1, ..., n\n",
        "```\n",
        "where:\n",
        "\n",
        "w is the weight vector\n",
        "b is the bias term\n",
        "xi and yi are the features and label of the i-th training sample, respectively\n",
        "n is the number of training samples\n",
        "||w|| is the Euclidean norm of the weight vector.\n",
        "The first term of the objective function ((1/2) ||w||^2) represents the regularization term that penalizes large values of w and helps prevent overfitting. The second term is the constraint that enforces that all training samples are correctly classified and that the decision boundary has a margin of at least 1. This is because the yi term is either +1 or -1 depending on whether the sample belongs to the positive or negative class, respectively, and the margin is defined as 2/||w||. The >= 1 constraint ensures that the distance between the decision boundary and the closest data point from either class is at least 1.\n",
        "\n",
        "The objective function of a linear SVM can be optimized using techniques such as gradient descent or quadratic programming.\n"
      ]
    },
    {
      "cell_type": "markdown",
      "metadata": {
        "id": "YAY6cAQnXwKE"
      },
      "source": [
        "# answer 3\n",
        "The kernel trick in Support Vector Machines (SVM) is a technique that allows SVMs to efficiently learn non-linear decision boundaries without explicitly mapping the data into a higher-dimensional feature space. This is achieved by introducing a kernel function that computes the inner product between pairs of data points in the original feature space. The kernel function effectively measures the similarity between two data points, and can be chosen to represent a wide range of non-linear relationships between the input variables.\n",
        "\n",
        "More formally, the kernel trick involves replacing the inner product x_i^T x_j in the optimization problem of the SVM with a kernel function K(x_i, x_j) that computes the inner product between the data points x_i and x_j in a possibly high-dimensional feature space:\n",
        "\n",
        "```\n",
        "minimize (1/2) sum_i sum_j alpha_i alpha_j y_i y_j K(x_i, x_j) - sum_i alpha_i\n",
        "subject to 0 <= alpha_i <= C for i = 1, ..., n\n",
        "           sum_i alpha_i y_i = 0\n",
        "```\n",
        "where:\n",
        "\n",
        "x_i and x_j are the i-th and j-th input vectors, respectively\n",
        "y_i and y_j are the corresponding labels (+1 or -1)\n",
        "alpha_i are the Lagrange multipliers that determine the weights of the support vectors in the decision boundary\n",
        "C is a regularization parameter that controls the trade-off between maximizing the margin and minimizing the classification error.\n",
        "The kernel function K(x_i, x_j) is a non-linear function that maps the data into a possibly high-dimensional feature space, where the problem may be easier to solve. By using the kernel trick, the SVM can implicitly learn a non-linear decision boundary in this feature space without explicitly computing the mapping.\n",
        "\n",
        "Some common kernel functions used in SVMs include the polynomial kernel, the Gaussian (or radial basis function) kernel, and the sigmoid kernel. The choice of kernel function depends on the problem domain and the nature of the data.\n"
      ]
    },
    {
      "cell_type": "markdown",
      "metadata": {
        "id": "UszXZPXNYChf"
      },
      "source": [
        "# answer 4\n",
        "The role of support vectors in Support Vector Machines (SVM) is to define the decision boundary and to identify the most important samples for the classification task.\n",
        "\n",
        "In SVM, the decision boundary is defined by the hyperplane that maximizes the margin between the two classes. The margin is defined as the distance between the hyperplane and the closest data points from either class. The data points that lie closest to the decision boundary are known as support vectors, as they support the definition of the boundary.\n",
        "\n",
        "The importance of support vectors lies in the fact that they are the only data points that have an impact on the position of the decision boundary. All other data points can be removed without affecting the position of the boundary. In other words, the SVM is a sparse model that relies only on a small subset of the training data to define the decision boundary.\n",
        "\n",
        "For example, let's say we have a binary classification problem with two classes of data points: red circles and blue squares. We want to train an SVM to separate the two classes using a linear kernel. In the figure below, the solid line represents the decision boundary, and the dashed lines represent the margin.\n",
        "\n",
        "SVM example with support vectors\n",
        "\n",
        "In this example, the support vectors are the three data points that lie closest to the decision boundary (one red circle and two blue squares). These support vectors define the position of the decision boundary, and all other data points are irrelevant for the classification task. The margin is defined by the distance between the two dashed lines, and the goal of the SVM is to maximize this margin while correctly classifying all training samples.\n",
        "\n",
        "The use of support vectors in SVM allows for a more robust and flexible modeling approach, as it focuses only on the most informative samples and avoids overfitting to noisy or irrelevant data."
      ]
    },
    {
      "attachments": {},
      "cell_type": "markdown",
      "metadata": {
        "id": "LGx1oT10YM9J"
      },
      "source": [
        "# answer 5\n",
        "**Hyperplane**\n",
        "In SVM, the decision boundary that separates the two classes of data points is called the hyperplane. The hyperplane is a linear function that takes the form of w^T x + b = 0, where w is the weight vector and b is the bias term.\n",
        "\n",
        "A hyperplane that separates the two classes can be defined as w^T x + b = 0, where w and b are parameters that determine the position and orientation of the hyperplane. There are many possible hyperplanes that can separate the two classes, but the optimal hyperplane is the one that maximizes the margin between the two classes. The margin is the distance between the hyperplane and the closest data points from each class, as shown in the following graph:\n",
        "\n",
        "\n",
        "**Marginal plane**\n",
        "The marginal plane is a hyperplane that is parallel to the decision boundary and lies at a distance of 1 from the closest data points from each class. The marginal plane can be used to define a soft margin or a hard margin in SVM.\n",
        "\n",
        "**Soft margin**\n",
        "In a soft margin SVM, some data points are allowed to be misclassified in order to obtain a better overall margin. This can be useful when the data points are not perfectly separable by a linear boundary, or when the dataset contains noise or outliers. In a soft margin SVM, a penalty term is added to the objective function to minimize the misclassification error.\n",
        "\n",
        "**Hard margin**\n",
        "In a hard margin SVM, all data points must be correctly classified, and the margin must be maximized. This can be useful when the data points are well-separated and noise-free. In a hard margin SVM, no penalty term is added to the objective function, and the optimization problem becomes a quadratic programming problem.\n"
      ]
    },
    {
      "cell_type": "markdown",
      "metadata": {
        "id": "OvGbNropYo-K"
      },
      "source": [
        "# answer 6\n",
        "SVM Implementation"
      ]
    },
    {
      "cell_type": "code",
      "execution_count": 150,
      "metadata": {},
      "outputs": [],
      "source": [
        "from sklearn.datasets import load_iris\n",
        "from sklearn.model_selection import train_test_split\n",
        "from sklearn.svm import SVC\n",
        "from sklearn.metrics import accuracy_score\n",
        "import matplotlib.pyplot as plt\n",
        "import numpy as np"
      ]
    },
    {
      "cell_type": "code",
      "execution_count": 151,
      "metadata": {},
      "outputs": [
        {
          "name": "stdout",
          "output_type": "stream",
          "text": [
            "Training set shape: (120, 2) (120,)\n",
            "Testing set shape: (30, 2) (30,)\n"
          ]
        }
      ],
      "source": [
        "#a load and split dataset\n",
        "# Load the iris dataset\n",
        "iris = load_iris()\n",
        "\n",
        "# Split the dataset into training and testing sets\n",
        "X_train, X_test, y_train, y_test = train_test_split(iris.data[:, :2], iris.target, test_size=0.2, random_state=42)\n",
        "\n",
        "# Print the shapes of the training and testing sets\n",
        "print(\"Training set shape:\", X_train.shape, y_train.shape)\n",
        "print(\"Testing set shape:\", X_test.shape, y_test.shape)"
      ]
    },
    {
      "cell_type": "code",
      "execution_count": 152,
      "metadata": {},
      "outputs": [
        {
          "data": {
            "text/html": [
              "<style>#sk-container-id-17 {color: black;background-color: white;}#sk-container-id-17 pre{padding: 0;}#sk-container-id-17 div.sk-toggleable {background-color: white;}#sk-container-id-17 label.sk-toggleable__label {cursor: pointer;display: block;width: 100%;margin-bottom: 0;padding: 0.3em;box-sizing: border-box;text-align: center;}#sk-container-id-17 label.sk-toggleable__label-arrow:before {content: \"▸\";float: left;margin-right: 0.25em;color: #696969;}#sk-container-id-17 label.sk-toggleable__label-arrow:hover:before {color: black;}#sk-container-id-17 div.sk-estimator:hover label.sk-toggleable__label-arrow:before {color: black;}#sk-container-id-17 div.sk-toggleable__content {max-height: 0;max-width: 0;overflow: hidden;text-align: left;background-color: #f0f8ff;}#sk-container-id-17 div.sk-toggleable__content pre {margin: 0.2em;color: black;border-radius: 0.25em;background-color: #f0f8ff;}#sk-container-id-17 input.sk-toggleable__control:checked~div.sk-toggleable__content {max-height: 200px;max-width: 100%;overflow: auto;}#sk-container-id-17 input.sk-toggleable__control:checked~label.sk-toggleable__label-arrow:before {content: \"▾\";}#sk-container-id-17 div.sk-estimator input.sk-toggleable__control:checked~label.sk-toggleable__label {background-color: #d4ebff;}#sk-container-id-17 div.sk-label input.sk-toggleable__control:checked~label.sk-toggleable__label {background-color: #d4ebff;}#sk-container-id-17 input.sk-hidden--visually {border: 0;clip: rect(1px 1px 1px 1px);clip: rect(1px, 1px, 1px, 1px);height: 1px;margin: -1px;overflow: hidden;padding: 0;position: absolute;width: 1px;}#sk-container-id-17 div.sk-estimator {font-family: monospace;background-color: #f0f8ff;border: 1px dotted black;border-radius: 0.25em;box-sizing: border-box;margin-bottom: 0.5em;}#sk-container-id-17 div.sk-estimator:hover {background-color: #d4ebff;}#sk-container-id-17 div.sk-parallel-item::after {content: \"\";width: 100%;border-bottom: 1px solid gray;flex-grow: 1;}#sk-container-id-17 div.sk-label:hover label.sk-toggleable__label {background-color: #d4ebff;}#sk-container-id-17 div.sk-serial::before {content: \"\";position: absolute;border-left: 1px solid gray;box-sizing: border-box;top: 0;bottom: 0;left: 50%;z-index: 0;}#sk-container-id-17 div.sk-serial {display: flex;flex-direction: column;align-items: center;background-color: white;padding-right: 0.2em;padding-left: 0.2em;position: relative;}#sk-container-id-17 div.sk-item {position: relative;z-index: 1;}#sk-container-id-17 div.sk-parallel {display: flex;align-items: stretch;justify-content: center;background-color: white;position: relative;}#sk-container-id-17 div.sk-item::before, #sk-container-id-17 div.sk-parallel-item::before {content: \"\";position: absolute;border-left: 1px solid gray;box-sizing: border-box;top: 0;bottom: 0;left: 50%;z-index: -1;}#sk-container-id-17 div.sk-parallel-item {display: flex;flex-direction: column;z-index: 1;position: relative;background-color: white;}#sk-container-id-17 div.sk-parallel-item:first-child::after {align-self: flex-end;width: 50%;}#sk-container-id-17 div.sk-parallel-item:last-child::after {align-self: flex-start;width: 50%;}#sk-container-id-17 div.sk-parallel-item:only-child::after {width: 0;}#sk-container-id-17 div.sk-dashed-wrapped {border: 1px dashed gray;margin: 0 0.4em 0.5em 0.4em;box-sizing: border-box;padding-bottom: 0.4em;background-color: white;}#sk-container-id-17 div.sk-label label {font-family: monospace;font-weight: bold;display: inline-block;line-height: 1.2em;}#sk-container-id-17 div.sk-label-container {text-align: center;}#sk-container-id-17 div.sk-container {/* jupyter's `normalize.less` sets `[hidden] { display: none; }` but bootstrap.min.css set `[hidden] { display: none !important; }` so we also need the `!important` here to be able to override the default hidden behavior on the sphinx rendered scikit-learn.org. See: https://github.com/scikit-learn/scikit-learn/issues/21755 */display: inline-block !important;position: relative;}#sk-container-id-17 div.sk-text-repr-fallback {display: none;}</style><div id=\"sk-container-id-17\" class=\"sk-top-container\"><div class=\"sk-text-repr-fallback\"><pre>SVC(C=3, kernel=&#x27;linear&#x27;)</pre><b>In a Jupyter environment, please rerun this cell to show the HTML representation or trust the notebook. <br />On GitHub, the HTML representation is unable to render, please try loading this page with nbviewer.org.</b></div><div class=\"sk-container\" hidden><div class=\"sk-item\"><div class=\"sk-estimator sk-toggleable\"><input class=\"sk-toggleable__control sk-hidden--visually\" id=\"sk-estimator-id-17\" type=\"checkbox\" checked><label for=\"sk-estimator-id-17\" class=\"sk-toggleable__label sk-toggleable__label-arrow\">SVC</label><div class=\"sk-toggleable__content\"><pre>SVC(C=3, kernel=&#x27;linear&#x27;)</pre></div></div></div></div></div>"
            ],
            "text/plain": [
              "SVC(C=3, kernel='linear')"
            ]
          },
          "execution_count": 152,
          "metadata": {},
          "output_type": "execute_result"
        }
      ],
      "source": [
        "#b Train a linear SVM classifier \n",
        "# Train a linear SVM classifier on the training set\n",
        "svm = SVC(kernel='linear', C=3)\n",
        "svm.fit(X_train, y_train)"
      ]
    },
    {
      "cell_type": "code",
      "execution_count": 153,
      "metadata": {},
      "outputs": [
        {
          "name": "stdout",
          "output_type": "stream",
          "text": [
            "Accuracy: 0.90\n"
          ]
        }
      ],
      "source": [
        "#c Compute the accuracy of the model on the testing set\n",
        "# Predict the labels for the testing set\n",
        "y_pred = svm.predict(X_test)\n",
        "\n",
        "accuracy = accuracy_score(y_test, y_pred)\n",
        "print(f\"Accuracy: {accuracy:.2f}\")"
      ]
    },
    {
      "cell_type": "code",
      "execution_count": 154,
      "metadata": {},
      "outputs": [
        {
          "data": {
            "image/png": "[encoded data removed]",
            "text/plain": [
              "<Figure size 640x480 with 1 Axes>"
            ]
          },
          "metadata": {},
          "output_type": "display_data"
        }
      ],
      "source": [
        "#d Plot the decision boundaries of the trained model using two of the features\n",
        "x_min, x_max = X_train[:, 0].min() - 1, X_train[:, 0].max() + 1\n",
        "y_min, y_max = X_train[:, 1].min() - 1, X_train[:, 1].max() + 1\n",
        "xx, yy = np.meshgrid(np.arange(x_min, x_max, 0.1), np.arange(y_min, y_max, 0.1))\n",
        "Z = svm.predict(np.c_[xx.ravel(), yy.ravel()])\n",
        "Z = Z.reshape(xx.shape)\n",
        "plt.contourf(xx, yy, Z, alpha=0.4)\n",
        "plt.scatter(X_train[:, 0], X_train[:, 1], c=y_train,s=25, cmap=plt.cm.Reds)\n",
        "plt.xlabel('Sepal length')\n",
        "plt.ylabel('Sepal width')\n",
        "plt.show()"
      ]
    },
    {
      "cell_type": "code",
      "execution_count": 155,
      "metadata": {
        "colab": {
          "base_uri": "https://localhost:8080/"
        },
        "id": "uUtaJTsLOFII",
        "outputId": "202633ea-5cab-4056-a098-77d136f22ea3"
      },
      "outputs": [
        {
          "name": "stdout",
          "output_type": "stream",
          "text": [
            "C=0.1: Accuracy=0.83\n",
            "C=1: Accuracy=0.90\n",
            "C=5: Accuracy=0.90\n",
            "C=10: Accuracy=0.90\n"
          ]
        }
      ],
      "source": [
        "#e Try different values of the regularisation parameter C and see how it affects the performance of the model\n",
        "for C in [0.1, 1, 5, 10]:\n",
        "    svm = SVC(kernel='linear', C=C)\n",
        "    svm.fit(X_train, y_train)\n",
        "    y_pred = svm.predict(X_test)\n",
        "    accuracy = accuracy_score(y_test, y_pred)\n",
        "    print(f\"C={C}: Accuracy={accuracy:.2f}\")"
      ]
    },
    {
      "cell_type": "code",
      "execution_count": 156,
      "metadata": {
        "id": "Fbb36jm_dBLS"
      },
      "outputs": [],
      "source": [
        "#e Bonus Linear SVM classifier implementation from scratch\n",
        "import numpy as np\n",
        "\n",
        "class LinearSVM:\n",
        "    def __init__(self, learning_rate=0.01, max_iters=1000, C=1.0):\n",
        "        self.learning_rate = learning_rate\n",
        "        self.max_iters = max_iters\n",
        "        self.C = C\n",
        "    \n",
        "    def fit(self, X, y):\n",
        "        n_samples, n_features = X.shape\n",
        "        \n",
        "        # Initialize weights and bias\n",
        "        self.weights = np.zeros(n_features)\n",
        "        self.bias = 0\n",
        "        \n",
        "        # Apply gradient descent to minimize the SVM objective function\n",
        "        for _ in range(self.max_iters):\n",
        "            for i in range(n_samples):\n",
        "                # Calculate the SVM decision function for sample i\n",
        "                decision = y[i] * (np.dot(X[i], self.weights) - self.bias)\n",
        "                \n",
        "                # Update weights and bias if the decision is not correct\n",
        "                if decision < 1:\n",
        "                    self.weights -= self.learning_rate * (self.weights - self.C * y[i] * X[i])\n",
        "                    self.bias += self.learning_rate * y[i]\n",
        "                else:\n",
        "                    self.weights -= self.learning_rate * self.weights\n",
        "        \n",
        "    def predict(self, X):\n",
        "        # Calculate the SVM decision function for each sample\n",
        "        decision = np.dot(X, self.weights) - self.bias\n",
        "        \n",
        "        # Return the predicted class labels (1 or -1)\n",
        "        return np.where(decision >= 0, 1, -1)"
      ]
    },
    {
      "cell_type": "code",
      "execution_count": 157,
      "metadata": {
        "colab": {
          "base_uri": "https://localhost:8080/"
        },
        "id": "Z2bL8MxOdNdl",
        "outputId": "1a788dcc-4f08-47df-e729-68e2fa952435"
      },
      "outputs": [
        {
          "name": "stdout",
          "output_type": "stream",
          "text": [
            "Accuracy: 0.0\n"
          ]
        }
      ],
      "source": [
        "from sklearn.datasets import load_iris\n",
        "from sklearn.model_selection import train_test_split\n",
        "from sklearn.metrics import accuracy_score\n",
        "\n",
        "# Load the Iris dataset\n",
        "iris = load_iris()\n",
        "\n",
        "# Split the dataset into a training set and a testing set\n",
        "X_train, X_test, y_train, y_test = train_test_split(iris.data, iris.target, test_size=0.2, random_state=42)\n",
        "\n",
        "# Create a LinearSVM classifier and fit it to the training set\n",
        "svm = LinearSVM(learning_rate=0.01, max_iters=1000, C=1.0)\n",
        "svm.fit(X_train, y_train)\n",
        "\n",
        "# Use the trained classifier to predict the labels for the testing set\n",
        "y_pred = svm.predict(X_test)\n",
        "\n",
        "# Calculate the accuracy of the classifier on the testing set\n",
        "accuracy = accuracy_score(y_test, y_pred)\n",
        "\n",
        "print(\"Accuracy:\", accuracy)"
      ]
    }
  ],
  "metadata": {
    "colab": {
      "provenance": []
    },
    "kernelspec": {
      "display_name": "Python 3",
      "name": "python3"
    },
    "language_info": {
      "codemirror_mode": {
        "name": "ipython",
        "version": 3
      },
      "file_extension": ".py",
      "mimetype": "text/x-python",
      "name": "python",
      "nbconvert_exporter": "python",
      "pygments_lexer": "ipython3",
      "version": "3.11.1"
    }
  },
  "nbformat": 4,
  "nbformat_minor": 0
}
